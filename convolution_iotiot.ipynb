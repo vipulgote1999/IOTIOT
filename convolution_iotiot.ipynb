{
  "nbformat": 4,
  "nbformat_minor": 0,
  "metadata": {
    "colab": {
      "name": "convolution_iotiot.ipynb",
      "provenance": []
    },
    "kernelspec": {
      "name": "python3",
      "display_name": "Python 3"
    }
  },
  "cells": [
    {
      "cell_type": "markdown",
      "metadata": {
        "id": "onvD1a-cAJGM",
        "colab_type": "text"
      },
      "source": [
        "for each image row in input image:\n",
        "   for each pixel in image row:\n",
        "\n",
        "      set sum to zero\n",
        "\n",
        "      for each convolution row in convolution:\n",
        "         for each element in convolution row:\n",
        "\n",
        "            if element position  corresponding* to pixel position then\n",
        "               multiply element value  corresponding* to pixel value\n",
        "               add result to sum\n",
        "            endif\n",
        "\n",
        "      set output image pixel to sum\n",
        "\n",
        "\n"
      ]
    },
    {
      "cell_type": "code",
      "metadata": {
        "id": "jsPaQ3rIL_GT",
        "colab_type": "code",
        "outputId": "f595d880-e7fe-42fd-bade-b277f6046624",
        "colab": {
          "base_uri": "https://localhost:8080/",
          "height": 87
        }
      },
      "source": [
        "import numpy as np\n",
        "\n",
        "a = np.array([[3,1,1,2,8,4],[1,0,7,3,2,6],[2,3,5,1,1,3],[1,4,1,2,6,5],[3,2,1,3,7,2],[9,2,6,2,5,1]])\n",
        "\n",
        "b = np.array([[1,0,-1],[1,0,-1],[1,0,-1]])\n",
        "\n",
        "output = np.arange(16).reshape(4,4)\n",
        "\n",
        "for i in range(4):\n",
        "    for j in range(4):\n",
        "        \n",
        "        matrix_c = matrix_a[i:i+3, j:j+3] \n",
        "        temp = np.multiply(matrix_c, matrix_b)\n",
        "        conv_sum = temp.sum()\n",
        "        #print(conv_sum)\n",
        "        output[i,j] = conv_sum\n",
        "\n",
        "print(output[:,:])"
      ],
      "execution_count": 0,
      "outputs": [
        {
          "output_type": "stream",
          "text": [
            "[[ -7  -2   2  -7]\n",
            " [ -9   1   4  -8]\n",
            " [ -1   3  -7  -4]\n",
            " [  5   1 -10  -1]]\n"
          ],
          "name": "stdout"
        }
      ]
    }
  ]
}