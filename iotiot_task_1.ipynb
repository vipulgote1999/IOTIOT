{
  "nbformat": 4,
  "nbformat_minor": 0,
  "metadata": {
    "colab": {
      "name": "iotiot task 1.ipynb",
      "provenance": []
    },
    "kernelspec": {
      "name": "python3",
      "display_name": "Python 3"
    },
    "accelerator": "GPU"
  },
  "cells": [
    {
      "cell_type": "code",
      "metadata": {
        "id": "p5cos6AS5PwH",
        "colab_type": "code",
        "outputId": "2b6a5c3b-553a-4029-8b85-917f9c60b28c",
        "colab": {
          "base_uri": "https://localhost:8080/",
          "height": 52
        }
      },
      "source": [
        "import numpy as np\n",
        "def fun():  \n",
        "  a=np.array([[1,2,3,4], [5,6,7,8], [9,10,11,12]])\n",
        "  b=a[1,2:4]\n",
        "  #print(b.dtype)\n",
        "  c=a[2,2:4]\n",
        "  #print(c.dtype)\n",
        "  d=np.concatenate(([b],[c]),axis=0)\n",
        "  #print(d)\n",
        "  return d\n",
        "fun()"
      ],
      "execution_count": 0,
      "outputs": [
        {
          "output_type": "execute_result",
          "data": {
            "text/plain": [
              "array([[ 7,  8],\n",
              "       [11, 12]])"
            ]
          },
          "metadata": {
            "tags": []
          },
          "execution_count": 28
        }
      ]
    }
  ]
}